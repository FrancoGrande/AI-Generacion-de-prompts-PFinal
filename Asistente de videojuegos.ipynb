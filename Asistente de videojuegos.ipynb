{
 "cells": [
  {
   "cell_type": "code",
   "execution_count": 1,
   "id": "6f5e6bba-f9b0-4d27-a0c2-ceede346e2fd",
   "metadata": {
    "scrolled": true
   },
   "outputs": [],
   "source": [
    "!pip install -q -U google-generativeai"
   ]
  },
  {
   "cell_type": "markdown",
   "id": "6180968b-5de0-4e1d-91e1-bb0607b62ebe",
   "metadata": {},
   "source": [
    "2. Use the API Key from gemini page"
   ]
  },
  {
   "cell_type": "code",
   "execution_count": 2,
   "id": "aaa13f6c-6aee-4ddd-92b7-33dbbf66ea3c",
   "metadata": {},
   "outputs": [],
   "source": [
    "from google.colab import userdata\n",
    "GOOGLE_API_KEY=userdata.get('GOOGLE_API_KEY')\n",
    "genai.configure(api_key=GOOGLE_API_KEY)"
   ]
  },
  {
   "cell_type": "code",
   "execution_count": 3,
   "id": "f7c1fc76-a9ea-4df9-9324-d83bba8bfc0c",
   "metadata": {
    "scrolled": true
   },
   "outputs": [],
   "source": [
    "model = genai.GenerativeModel('gemini-pro')"
   ]
  },
  {
   "cell_type": "markdown",
   "id": "a42ce140-d99c-492e-ad64-9de2719ea75e",
   "metadata": {},
   "source": [
    "Configuramos:"
   ]
  },
  {
   "cell_type": "code",
   "execution_count": null,
   "id": "1ce51fc0-ce3e-4db1-8ab5-4d9447252af9",
   "metadata": {},
   "outputs": [],
   "source": [
    "generation_config = {\n",
    "    \"temperature\": 0.28,\n",
    "    \"top_p\": 0.95,\n",
    "    \"top_k\": 64,\n",
    "    \"max_output_tokens\": 8192,\n",
    "    \"response_mime_type\": \"text/plain\",\n",
    "}\n",
    "\n",
    "model = genai.GenerativeModel(\n",
    "  model_name=\"gemini-1.5-pro\",\n",
    "  generation_config=generation_config,\n",
    "\n",
    "    system_instruction=\"Sos un asistente virtual en videojuegos, tu tarea es asistir a los jugadores con sus problemas, podes mostrar un tutorial, dar pistas sobre la situacion en la que esta el jugador y como solucionarla sin hacerle spoiler en la trama\",\n",
    ")\n",
    "\n",
    "chat_session = model.start_chat(\n",
    "    history=[\n",
    "    {\n",
    "        \"role\": \"user\",\n",
    "        \"parts\": [\n",
    "        \"Como me gano la confianza de shadowheart en baldur´s gate 3?\",\n",
    "        ],\n",
    "    },\n",
    "    {\n",
    "        \"role\": \"model\",\n",
    "        \"parts\": [\n",
    "        \"¡Entiendo que quieres ganarte el favor del misterioso Corazón Sombrío en Baldur's Gate 3!  Es un objetivo intrigante, y sin duda te espera un camino interesante. \\n\\nPara guiarte sin arruinarte la experiencia, te recomiendo lo siguiente:\\n\\n**Presta atención a las pistas:** Corazón Sombrrío tiene... preferencias particulares. Observa sus reacciones a tus acciones y decisiones durante el juego. ¿Qué tipo de elecciones parecen complacerlo? ¿Qué lo desagrada? \\n\\n**Diálogos reveladores:**  No te saltes los diálogos con Corazón Sombrío.  Las opciones que elijas al hablar con él  revelarán mucho sobre sus deseos y te darán una idea de cómo fortalecer vuestro vínculo. \\n\\n**Recuerda, las acciones hablan más que las palabras:** A veces, la manera de obtener la aprobación de Corazón Sombrío no se encuentra en lo que dices, sino en lo que haces. Piensa en cómo tus acciones en el mundo reflejan lo que has aprendido sobre sus valores. \\n\\nTen en cuenta que el camino para ganarse el favor de Corazón Sombrío puede ser complejo y depende de tus elecciones a lo largo de la historia.  ¡Buena suerte aventurero!  \\n\",\n",
    "        ],\n",
    "    },\n",
    "    ]\n",
    ")\n",
    "\n",
    "response = chat_session.send_message(\"Quiero saber como contentar a karlash en baldurs gate 3, que le gusta\")\n",
    "\n",
    "print(response.text)"
   ]
  },
  {
   "cell_type": "code",
   "execution_count": null,
   "id": "abb2ce41-0dc8-46f9-8137-aca58604bcbf",
   "metadata": {},
   "outputs": [],
   "source": [
    "chat_history =[]"
   ]
  },
  {
   "cell_type": "code",
   "execution_count": null,
   "id": "319a0bbc-0af1-4006-aea0-78dc22675505",
   "metadata": {},
   "outputs": [],
   "source": [
    "chat_session = model.start_chat(\n",
    "    history= chat_history\n",
    ")\n",
    "\n",
    "response = chat_session.send_message(\"Quiero saber como contentar a karlash en baldurs gate 3\")\n",
    "\n",
    "print(response.text)"
   ]
  },
  {
   "cell_type": "markdown",
   "id": "ea3b664a",
   "metadata": {},
   "source": [
    "Creamos las funciones donde se inicia la conversación y por otro lado el historial de la conversación:"
   ]
  },
  {
   "cell_type": "code",
   "execution_count": null,
   "id": "90f88714",
   "metadata": {},
   "outputs": [],
   "source": [
    "def print_chat_history():\n",
    "    print(\"\\nHistorial de la conversación:\")\n",
    "\n",
    "    for entry in chat_history:\n",
    "        role = \"Usuario\" if entry['role'] == 'user' else \"Bot\"\n",
    "        print(f\"{role}: {' '.join(entry['parts'])}\")\n",
    "\n",
    "def infinite_chat():\n",
    "    chat_session = model.start_chat(\n",
    "    history= chat_history\n",
    "    )\n",
    "while True:\n",
    "    user_input= input(\"you: \")\n",
    "    if user_input.lower() == \"exit\":\n",
    "        break\n",
    "    response = chat_session.send_message(user_input)\n",
    "    print(\"bot: \", response.text)\n",
    "\n",
    "    chat_history.append({'role': 'user', 'parts': [user_input] })\n",
    "    chat_history.append({'role': 'model', 'parts': [response.text] })\n",
    "\n",
    "    print(response.text)\n",
    "\n"
   ]
  },
  {
   "cell_type": "code",
   "execution_count": null,
   "id": "52a67a7e",
   "metadata": {},
   "outputs": [],
   "source": [
    "infinite_chat()"
   ]
  },
  {
   "cell_type": "code",
   "execution_count": null,
   "id": "f273a25f",
   "metadata": {},
   "outputs": [],
   "source": [
    "print_chat_history()"
   ]
  },
  {
   "cell_type": "markdown",
   "id": "92d069fa",
   "metadata": {},
   "source": [
    "Ahora le pediremos que describa una imagen del mismo juego "
   ]
  },
  {
   "cell_type": "code",
   "execution_count": null,
   "id": "4cd696f4",
   "metadata": {},
   "outputs": [],
   "source": [
    "!pip install -U -q google-generativeai"
   ]
  },
  {
   "cell_type": "markdown",
   "id": "cbf6a1d7",
   "metadata": {},
   "source": [
    "Siguiente descargamos una imagen para que luego la analice y la describa"
   ]
  },
  {
   "cell_type": "code",
   "execution_count": null,
   "id": "2e58cea0",
   "metadata": {},
   "outputs": [],
   "source": [
    "!curl -o image.jpg \"https://image.api.playstation.com/vulcan/ap/rnd/202302/2321/3098481c9164bb5f33069b37e49fba1a572ea3b89971ee7b.jpg\""
   ]
  },
  {
   "cell_type": "markdown",
   "id": "80a8ea2e",
   "metadata": {},
   "source": [
    "variable para utilizarla en el codigo:"
   ]
  },
  {
   "cell_type": "code",
   "execution_count": null,
   "id": "cb98ad47",
   "metadata": {},
   "outputs": [],
   "source": [
    "import PIL.Image\n",
    "img = PIL.Image.open('image.jpg')\n",
    "img"
   ]
  },
  {
   "cell_type": "markdown",
   "id": "4ec107f2",
   "metadata": {},
   "source": [
    "Ahora creamos el codigo para que la describa:"
   ]
  },
  {
   "cell_type": "code",
   "execution_count": null,
   "id": "19cf12e6",
   "metadata": {},
   "outputs": [],
   "source": [
    "model = genai.GenerativeModel('gemini-1.5-flash')\n",
    "response = model.generate_content(['describime a la persona de la imagen', img])\n",
    "print(response.text)"
   ]
  }
 ],
 "metadata": {
  "kernelspec": {
   "display_name": "Python 3 (ipykernel)",
   "language": "python",
   "name": "python3"
  },
  "language_info": {
   "codemirror_mode": {
    "name": "ipython",
    "version": 3
   },
   "file_extension": ".py",
   "mimetype": "text/x-python",
   "name": "python",
   "nbconvert_exporter": "python",
   "pygments_lexer": "ipython3",
   "version": "3.12.3"
  }
 },
 "nbformat": 4,
 "nbformat_minor": 5
}
